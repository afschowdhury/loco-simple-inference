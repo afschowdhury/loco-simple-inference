{
 "cells": [
  {
   "cell_type": "code",
   "execution_count": 1,
   "id": "7d5ff730",
   "metadata": {},
   "outputs": [],
   "source": [
    "from locomotion_infer import LocomotionInferenceEngine\n",
    "\n",
    "from dotenv import load_dotenv\n",
    "import os\n",
    "load_dotenv()\n",
    "\n",
    "openai_api_key = os.getenv(\"OPENAI_API_KEY\")"
   ]
  },
  {
   "cell_type": "code",
   "execution_count": 2,
   "id": "e5ea89cf",
   "metadata": {},
   "outputs": [],
   "source": [
    "engine = LocomotionInferenceEngine(api_key=openai_api_key)"
   ]
  },
  {
   "cell_type": "code",
   "execution_count": 3,
   "id": "db1cf539",
   "metadata": {},
   "outputs": [],
   "source": [
    "from gpt_scene_description.gpt_descriptor import GPTSceneDescriptor\n",
    "from live_descriptor.live_descriptor import process_live_frame"
   ]
  },
  {
   "cell_type": "code",
   "execution_count": 15,
   "id": "98fda610",
   "metadata": {},
   "outputs": [
    {
     "name": "stdout",
     "output_type": "stream",
     "text": [
      "✅ GPT Scene Descriptor initialized\n",
      "🤖 Model: gpt-4.1-nano\n",
      "🧠 Memory size: 10\n",
      "🔗 Context enabled: True\n"
     ]
    }
   ],
   "source": [
    "gpt_descriptor = GPTSceneDescriptor(model= \"gpt-4.1-nano\",api_key=openai_api_key)"
   ]
  },
  {
   "cell_type": "code",
   "execution_count": 16,
   "id": "cc5078f4",
   "metadata": {},
   "outputs": [
    {
     "name": "stdout",
     "output_type": "stream",
     "text": [
      "🎬 Scene 1 described: This scene shows a concrete sidewalk in a construction or industrial area, flanked by a building wit...\n"
     ]
    }
   ],
   "source": [
    "import cv2\n",
    "\n",
    "frame_1_path = \"/home/cmuser/ASIF/loco-simple/outputs/demo_data_at_1fps_0c379378/frame_000000.jpg\"\n",
    "\n",
    "frame_1 = cv2.imread(frame_1_path)\n",
    "gpt_descriptor_memory = [] \n",
    "gpt_descriptor_memory = gpt_descriptor.update_description_memory(gpt_descriptor_memory,frame_1)"
   ]
  },
  {
   "cell_type": "code",
   "execution_count": 17,
   "id": "75d4f35c",
   "metadata": {},
   "outputs": [
    {
     "data": {
      "text/plain": [
       "'This scene shows a concrete sidewalk in a construction or industrial area, flanked by a building with metal roll-up doors on the left and a fence on the right. There are some trees providing partial shade, with their branches extending over the sidewalk. In the background, there are parked vehicles and construction materials or equipment, indicating ongoing or recent construction activity. The environment appears relatively quiet and clean, with no pedestrians or workers visible at this moment.'"
      ]
     },
     "execution_count": 17,
     "metadata": {},
     "output_type": "execute_result"
    }
   ],
   "source": [
    "gpt_descriptor_memory[0]['description']"
   ]
  },
  {
   "cell_type": "code",
   "execution_count": 8,
   "id": "6f6a53ce",
   "metadata": {},
   "outputs": [
    {
     "data": {
      "text/plain": [
       "'iced concrete sidewalk, tree with green leaves, white building, and parked car on street corner.'"
      ]
     },
     "execution_count": 8,
     "metadata": {},
     "output_type": "execute_result"
    }
   ],
   "source": [
    "live_desc_memory = []\n",
    "live_desc_memory = process_live_frame(live_desc_memory,frame_1)\n",
    "live_desc_memory[0]['description']\n"
   ]
  },
  {
   "cell_type": "code",
   "execution_count": 18,
   "id": "35f3474d",
   "metadata": {},
   "outputs": [],
   "source": [
    "loco_infer_memory = \"\"\n",
    "loco_infer_memory = engine.detect_locomotion_mode(\n",
    "    gpt_description=gpt_descriptor_memory[0]['description'],\n",
    "    live_description=live_desc_memory[0]['description'],\n",
    "    previous_mode=loco_infer_memory,\n",
    "    voice_command=\"I am walking\")"
   ]
  },
  {
   "cell_type": "code",
   "execution_count": 19,
   "id": "527e1745",
   "metadata": {},
   "outputs": [
    {
     "data": {
      "text/plain": [
       "{'mode_detected': 'ground walk', 'confidence_score': 0.9}"
      ]
     },
     "execution_count": 19,
     "metadata": {},
     "output_type": "execute_result"
    }
   ],
   "source": [
    "loco_infer_memory"
   ]
  },
  {
   "cell_type": "code",
   "execution_count": null,
   "id": "fc7a8d47",
   "metadata": {},
   "outputs": [],
   "source": []
  }
 ],
 "metadata": {
  "kernelspec": {
   "display_name": "Python 3",
   "language": "python",
   "name": "python3"
  },
  "language_info": {
   "codemirror_mode": {
    "name": "ipython",
    "version": 3
   },
   "file_extension": ".py",
   "mimetype": "text/x-python",
   "name": "python",
   "nbconvert_exporter": "python",
   "pygments_lexer": "ipython3",
   "version": "3.10.0"
  }
 },
 "nbformat": 4,
 "nbformat_minor": 5
}
