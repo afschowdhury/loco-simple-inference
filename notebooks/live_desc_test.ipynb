{
 "cells": [
  {
   "cell_type": "code",
   "execution_count": 1,
   "id": "7a3b90bd",
   "metadata": {},
   "outputs": [],
   "source": [
    "from live_descriptor.live_descriptor import process_live_frame"
   ]
  },
  {
   "cell_type": "code",
   "execution_count": 2,
   "id": "64443747",
   "metadata": {},
   "outputs": [],
   "source": [
    "memory = []\n",
    "import cv2\n",
    "frame = cv2.imread(\"/home/cmuser/ASIF/loco-simple/outputs/demo_data_at_1fps_0c379378/frame_000000.jpg\")\n",
    "\n",
    "memory = process_live_frame(memory,frame)"
   ]
  },
  {
   "cell_type": "code",
   "execution_count": 3,
   "id": "8e8ca990",
   "metadata": {},
   "outputs": [
    {
     "data": {
      "text/plain": [
       "[{'timestamp': '2025-09-11T15:28:27.949722',\n",
       "  'frame_identifier': 'frame_20250911_152825_817180',\n",
       "  'description': 'iced concrete sidewalk, tree with green leaves, white building, and parked car on street corner.',\n",
       "  'frame_index': 0,\n",
       "  'prompt_used': 'Describe this image in a short sentence.'}]"
      ]
     },
     "execution_count": 3,
     "metadata": {},
     "output_type": "execute_result"
    }
   ],
   "source": [
    "memory"
   ]
  },
  {
   "cell_type": "code",
   "execution_count": 4,
   "id": "9cf9999d",
   "metadata": {},
   "outputs": [],
   "source": [
    "frame_2 = cv2.imread(\"/home/cmuser/ASIF/loco-simple/outputs/demo_data_at_1fps_0c379378/frame_000750.jpg\")\n",
    "memory = process_live_frame(memory,frame_2)\n",
    "\n"
   ]
  },
  {
   "cell_type": "code",
   "execution_count": 5,
   "id": "7e127661",
   "metadata": {},
   "outputs": [
    {
     "data": {
      "text/plain": [
       "[{'timestamp': '2025-09-11T15:28:27.949722',\n",
       "  'frame_identifier': 'frame_20250911_152825_817180',\n",
       "  'description': 'iced concrete sidewalk, tree with green leaves, white building, and parked car on street corner.',\n",
       "  'frame_index': 0,\n",
       "  'prompt_used': 'Describe this image in a short sentence.'},\n",
       " {'timestamp': '2025-09-11T15:29:33.400096',\n",
       "  'frame_identifier': 'frame_20250911_152933_153090',\n",
       "  'description': 'iced gray metal building with white trim, two windows, and a single light fixture, accompanied by a concrete sidewalk and trees beyond.',\n",
       "  'frame_index': 1,\n",
       "  'prompt_used': 'Describe this image in a short sentence.'}]"
      ]
     },
     "execution_count": 5,
     "metadata": {},
     "output_type": "execute_result"
    }
   ],
   "source": [
    "memory"
   ]
  },
  {
   "cell_type": "code",
   "execution_count": null,
   "id": "16f1c84b",
   "metadata": {},
   "outputs": [],
   "source": []
  }
 ],
 "metadata": {
  "kernelspec": {
   "display_name": "Python 3",
   "language": "python",
   "name": "python3"
  },
  "language_info": {
   "codemirror_mode": {
    "name": "ipython",
    "version": 3
   },
   "file_extension": ".py",
   "mimetype": "text/x-python",
   "name": "python",
   "nbconvert_exporter": "python",
   "pygments_lexer": "ipython3",
   "version": "3.10.0"
  }
 },
 "nbformat": 4,
 "nbformat_minor": 5
}
