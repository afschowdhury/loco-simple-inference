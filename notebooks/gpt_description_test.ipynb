{
 "cells": [
  {
   "cell_type": "code",
   "execution_count": 1,
   "id": "1ad99b89",
   "metadata": {},
   "outputs": [],
   "source": [
    "from gpt_scene_description.gpt_descriptor import GPTSceneDescriptor\n",
    "\n",
    "from dotenv import load_dotenv\n",
    "load_dotenv()\n",
    "\n",
    "import os\n",
    "\n",
    "\n",
    "openai_api_key = os.getenv('OPENAI_API_KEY')"
   ]
  },
  {
   "cell_type": "code",
   "execution_count": 3,
   "id": "7d8b9d43",
   "metadata": {},
   "outputs": [
    {
     "name": "stdout",
     "output_type": "stream",
     "text": [
      "✅ GPT Scene Descriptor initialized\n",
      "🤖 Model: gpt-5-nano\n",
      "🧠 Memory size: 10\n",
      "🔗 Context enabled: True\n"
     ]
    }
   ],
   "source": [
    "descriptor = GPTSceneDescriptor(model= \"gpt-5-nano\",api_key=openai_api_key)"
   ]
  },
  {
   "cell_type": "code",
   "execution_count": 4,
   "id": "0f633cc4",
   "metadata": {},
   "outputs": [
    {
     "name": "stdout",
     "output_type": "stream",
     "text": [
      "🎬 Scene 1 described: A quiet corridor unfolds, a narrow highway of concrete that slips between a line of dull metal doors...\n"
     ]
    }
   ],
   "source": [
    "import cv2\n",
    "\n",
    "frame_1_path = \"/home/cmuser/ASIF/loco-simple/outputs/demo_data_at_1fps_0c379378/frame_000000.jpg\"\n",
    "\n",
    "frame_1 = cv2.imread(frame_1_path)\n",
    "memory = [] \n",
    "memory = descriptor.update_description_memory(memory,frame_1)"
   ]
  },
  {
   "cell_type": "code",
   "execution_count": 5,
   "id": "4cbc8556",
   "metadata": {},
   "outputs": [
    {
     "name": "stdout",
     "output_type": "stream",
     "text": [
      "[{'description': 'A quiet corridor unfolds, a narrow highway of concrete that '\n",
      "                 'slips between a line of dull metal doors on the left and a '\n",
      "                 'ragged edge of trees on the right. The overhead canopy of '\n",
      "                 'branches weaves a living roof, filtering the daylight into a '\n",
      "                 'soft, green-tinged hush that mutes the world into stillness. '\n",
      "                 'The storage units run like a row of pale, industrial faces, '\n",
      "                 'their roll-up doors closed and unchanging, receding into a '\n",
      "                 'vanishing point where the alley narrows to a pale speck in '\n",
      "                 'the distance. The sidewalk is plain and weathered, with fine '\n",
      "                 'cracks and a lone grate catching the occasional glint of '\n",
      "                 'light, as if the space remembers every footstep that has '\n",
      "                 'ever crossed it. To the right, a strip of earth and grass '\n",
      "                 'holds the stubborn roots of a tree and a few fallen leaves, '\n",
      "                 'the ground subtly sloping away from the path toward a low, '\n",
      "                 'quiet boundary that hints at something beyond the routine of '\n",
      "                 'storage and shade.\\n'\n",
      "                 '\\n'\n",
      "                 'Far down the lane, a white vehicle sits at the horizon, a '\n",
      "                 'quiet anchor in a world of creaking doors and rustling '\n",
      "                 'leaves. The air feels cool and heavy with anticipation, the '\n",
      "                 'moment between activity and stillness. This opening frame '\n",
      "                 'breathes with possibility: a mundane urban corridor that '\n",
      "                 'promises a shift from daily routine to something just beyond '\n",
      "                 'sight.\\n'\n",
      "                 '\\n'\n",
      "                 'Key elements\\n'\n",
      "                 '- Long, straight concrete path between rows of storage-unit '\n",
      "                 'doors (left) and trees (right)\\n'\n",
      "                 '- Dense tree canopy overhead creating shade and a '\n",
      "                 'tunnel-like feel\\n'\n",
      "                 '- Muted, cool lighting with a greenish-gray palette\\n'\n",
      "                 '- Distant white vehicle as a focal point at the end of the '\n",
      "                 'lane\\n'\n",
      "                 '- Quiet, almost verb-like atmosphere suggesting a moment of '\n",
      "                 'anticipation\\n'\n",
      "                 '\\n'\n",
      "                 'Mood and setup\\n'\n",
      "                 '- Quiet, reflective, and a touch unsettled\\n'\n",
      "                 '- Everyday infrastructure elevated into a cinematic doorway\\n'\n",
      "                 '- Open-ended; invites a next action or arrival that could '\n",
      "                 'tilt the scene from ordinary to charged with possibility',\n",
      "  'scene_id': 1,\n",
      "  'timestamp': '2025-09-11T15:14:21.389119'}]\n"
     ]
    }
   ],
   "source": [
    "from pprint import pprint\n",
    "pprint(memory)"
   ]
  },
  {
   "cell_type": "code",
   "execution_count": 6,
   "id": "a5e21dc7",
   "metadata": {},
   "outputs": [
    {
     "data": {
      "text/plain": [
       "{'total_descriptions': 1,\n",
       " 'memory_size_limit': 10,\n",
       " 'latest_description': 'A quiet corridor unfolds, a narrow highway of concrete that slips between a line of dull metal doors on the left and a ragged edge of trees on the right. The overhead canopy of branches weaves a living roof, filtering the daylight into a soft, green-tinged hush that mutes the world into stillness. The storage units run like a row of pale, industrial faces, their roll-up doors closed and unchanging, receding into a vanishing point where the alley narrows to a pale speck in the distance. The sidewalk is plain and weathered, with fine cracks and a lone grate catching the occasional glint of light, as if the space remembers every footstep that has ever crossed it. To the right, a strip of earth and grass holds the stubborn roots of a tree and a few fallen leaves, the ground subtly sloping away from the path toward a low, quiet boundary that hints at something beyond the routine of storage and shade.\\n\\nFar down the lane, a white vehicle sits at the horizon, a quiet anchor in a world of creaking doors and rustling leaves. The air feels cool and heavy with anticipation, the moment between activity and stillness. This opening frame breathes with possibility: a mundane urban corridor that promises a shift from daily routine to something just beyond sight.\\n\\nKey elements\\n- Long, straight concrete path between rows of storage-unit doors (left) and trees (right)\\n- Dense tree canopy overhead creating shade and a tunnel-like feel\\n- Muted, cool lighting with a greenish-gray palette\\n- Distant white vehicle as a focal point at the end of the lane\\n- Quiet, almost verb-like atmosphere suggesting a moment of anticipation\\n\\nMood and setup\\n- Quiet, reflective, and a touch unsettled\\n- Everyday infrastructure elevated into a cinematic doorway\\n- Open-ended; invites a next action or arrival that could tilt the scene from ordinary to charged with possibility',\n",
       " 'average_api_time_ms': np.float64(14996.646404266357),\n",
       " 'total_api_calls': 1,\n",
       " 'context_enabled': True}"
      ]
     },
     "execution_count": 6,
     "metadata": {},
     "output_type": "execute_result"
    }
   ],
   "source": [
    "descriptor.get_memory_summary(memory)"
   ]
  },
  {
   "cell_type": "code",
   "execution_count": null,
   "id": "bad4e1c0",
   "metadata": {},
   "outputs": [],
   "source": []
  }
 ],
 "metadata": {
  "kernelspec": {
   "display_name": "Python 3",
   "language": "python",
   "name": "python3"
  },
  "language_info": {
   "codemirror_mode": {
    "name": "ipython",
    "version": 3
   },
   "file_extension": ".py",
   "mimetype": "text/x-python",
   "name": "python",
   "nbconvert_exporter": "python",
   "pygments_lexer": "ipython3",
   "version": "3.10.0"
  }
 },
 "nbformat": 4,
 "nbformat_minor": 5
}
